{
 "cells": [
  {
   "cell_type": "code",
   "execution_count": 5,
   "metadata": {},
   "outputs": [
    {
     "name": "stdout",
     "output_type": "stream",
     "text": [
      "Collecting torch\n",
      "  Downloading torch-2.6.0-cp310-cp310-win_amd64.whl.metadata (28 kB)\n",
      "Collecting filelock (from torch)\n",
      "  Using cached filelock-3.17.0-py3-none-any.whl.metadata (2.9 kB)\n",
      "Requirement already satisfied: typing-extensions>=4.10.0 in c:\\users\\mbestek\\appdata\\local\\anaconda3\\envs\\yoloe\\lib\\site-packages (from torch) (4.12.2)\n",
      "Collecting networkx (from torch)\n",
      "  Using cached networkx-3.4.2-py3-none-any.whl.metadata (6.3 kB)\n",
      "Collecting jinja2 (from torch)\n",
      "  Downloading jinja2-3.1.6-py3-none-any.whl.metadata (2.9 kB)\n",
      "Collecting fsspec (from torch)\n",
      "  Downloading fsspec-2025.3.0-py3-none-any.whl.metadata (11 kB)\n",
      "Collecting sympy==1.13.1 (from torch)\n",
      "  Using cached sympy-1.13.1-py3-none-any.whl.metadata (12 kB)\n",
      "Collecting mpmath<1.4,>=1.1.0 (from sympy==1.13.1->torch)\n",
      "  Using cached mpmath-1.3.0-py3-none-any.whl.metadata (8.6 kB)\n",
      "Collecting MarkupSafe>=2.0 (from jinja2->torch)\n",
      "  Downloading MarkupSafe-3.0.2-cp310-cp310-win_amd64.whl.metadata (4.1 kB)\n",
      "Downloading torch-2.6.0-cp310-cp310-win_amd64.whl (204.2 MB)\n",
      "   ---------------------------------------- 0.0/204.2 MB ? eta -:--:--\n",
      "   --- ----------------------------------- 19.1/204.2 MB 100.9 MB/s eta 0:00:02\n",
      "   ------- ------------------------------- 41.2/204.2 MB 104.9 MB/s eta 0:00:02\n",
      "   ----------- ---------------------------- 59.2/204.2 MB 99.5 MB/s eta 0:00:02\n",
      "   -------------- ------------------------- 76.0/204.2 MB 91.5 MB/s eta 0:00:02\n",
      "   ------------------ --------------------- 95.2/204.2 MB 90.7 MB/s eta 0:00:02\n",
      "   --------------------- ----------------- 112.2/204.2 MB 89.5 MB/s eta 0:00:02\n",
      "   ------------------------- ------------- 135.3/204.2 MB 92.0 MB/s eta 0:00:01\n",
      "   ----------------------------- --------- 156.5/204.2 MB 93.5 MB/s eta 0:00:01\n",
      "   ------------------------------ -------- 159.9/204.2 MB 84.5 MB/s eta 0:00:01\n",
      "   -------------------------------- ------ 172.8/204.2 MB 81.8 MB/s eta 0:00:01\n",
      "   ---------------------------------- ---- 180.6/204.2 MB 78.0 MB/s eta 0:00:01\n",
      "   ----------------------------------- --- 188.0/204.2 MB 74.2 MB/s eta 0:00:01\n",
      "   ------------------------------------- - 195.8/204.2 MB 71.1 MB/s eta 0:00:01\n",
      "   --------------------------------------  203.7/204.2 MB 68.9 MB/s eta 0:00:01\n",
      "   --------------------------------------- 204.2/204.2 MB 64.6 MB/s eta 0:00:00\n",
      "Using cached sympy-1.13.1-py3-none-any.whl (6.2 MB)\n",
      "Using cached filelock-3.17.0-py3-none-any.whl (16 kB)\n",
      "Downloading fsspec-2025.3.0-py3-none-any.whl (193 kB)\n",
      "Downloading jinja2-3.1.6-py3-none-any.whl (134 kB)\n",
      "Using cached networkx-3.4.2-py3-none-any.whl (1.7 MB)\n",
      "Downloading MarkupSafe-3.0.2-cp310-cp310-win_amd64.whl (15 kB)\n",
      "Using cached mpmath-1.3.0-py3-none-any.whl (536 kB)\n",
      "Installing collected packages: mpmath, sympy, networkx, MarkupSafe, fsspec, filelock, jinja2, torch\n",
      "Successfully installed MarkupSafe-3.0.2 filelock-3.17.0 fsspec-2025.3.0 jinja2-3.1.6 mpmath-1.3.0 networkx-3.4.2 sympy-1.13.1 torch-2.6.0\n",
      "Note: you may need to restart the kernel to use updated packages.\n"
     ]
    }
   ],
   "source": [
    "pip install torch"
   ]
  },
  {
   "cell_type": "code",
   "execution_count": 7,
   "metadata": {},
   "outputs": [
    {
     "name": "stdout",
     "output_type": "stream",
     "text": [
      "Collecting numpy\n",
      "  Using cached numpy-2.2.3-cp310-cp310-win_amd64.whl.metadata (60 kB)\n",
      "Using cached numpy-2.2.3-cp310-cp310-win_amd64.whl (12.9 MB)\n",
      "Installing collected packages: numpy\n",
      "Successfully installed numpy-2.2.3\n",
      "Note: you may need to restart the kernel to use updated packages.\n"
     ]
    }
   ],
   "source": [
    "pip install numpy"
   ]
  },
  {
   "cell_type": "code",
   "execution_count": 9,
   "metadata": {},
   "outputs": [
    {
     "name": "stdout",
     "output_type": "stream",
     "text": [
      "Model loaded successfully!\n"
     ]
    }
   ],
   "source": [
    "import torch\n",
    "import sys\n",
    "import os\n",
    "\n",
    "def verify_model_file(file_path):\n",
    "    # Check if file exists\n",
    "    if not os.path.exists(file_path):\n",
    "        raise FileNotFoundError(f\"Model file '{file_path}' not found\")\n",
    "    \n",
    "    # Check if file size is non-zero\n",
    "    if os.path.getsize(file_path) == 0:\n",
    "        raise ValueError(f\"Model file '{file_path}' is empty\")\n",
    "\n",
    "try:\n",
    "    model_path = \"C:/Users/mbestek/Development/computer-vision/yoloe/mobileclip_base1.pt\"\n",
    "    \n",
    "    # Verify file before loading\n",
    "    verify_model_file(model_path)\n",
    "    \n",
    "    # Try loading with different options\n",
    "    try:\n",
    "        # Attempt 1: Regular loading\n",
    "        model = torch.load(model_path)\n",
    "    except:\n",
    "        # Attempt 2: Try with map_location\n",
    "        model = torch.load(model_path, map_location=torch.device('cpu'))\n",
    "    \n",
    "    print(\"Model loaded successfully!\")\n",
    "\n",
    "except FileNotFoundError as e:\n",
    "    print(f\"Error: {e}\")\n",
    "except ValueError as e:\n",
    "    print(f\"Error: {e}\")\n",
    "except Exception as e:\n",
    "    print(f\"Failed to load model: {e}\")\n",
    "    print(\"Possible solutions:\")\n",
    "    print(\"1. Re-download the model file\")\n",
    "    print(\"2. Check if the file was completely downloaded\")\n",
    "    print(\"3. Verify the file path is correct\")\n"
   ]
  },
  {
   "cell_type": "code",
   "execution_count": 8,
   "metadata": {},
   "outputs": [
    {
     "name": "stdout",
     "output_type": "stream",
     "text": [
      "Requirement already satisfied: torch in c:\\users\\mbestek\\appdata\\local\\anaconda3\\envs\\yoloe\\lib\\site-packages (2.6.0)\n",
      "Requirement already satisfied: filelock in c:\\users\\mbestek\\appdata\\local\\anaconda3\\envs\\yoloe\\lib\\site-packages (from torch) (3.17.0)\n",
      "Requirement already satisfied: typing-extensions>=4.10.0 in c:\\users\\mbestek\\appdata\\local\\anaconda3\\envs\\yoloe\\lib\\site-packages (from torch) (4.12.2)\n",
      "Requirement already satisfied: networkx in c:\\users\\mbestek\\appdata\\local\\anaconda3\\envs\\yoloe\\lib\\site-packages (from torch) (3.4.2)\n",
      "Requirement already satisfied: jinja2 in c:\\users\\mbestek\\appdata\\local\\anaconda3\\envs\\yoloe\\lib\\site-packages (from torch) (3.1.6)\n",
      "Requirement already satisfied: fsspec in c:\\users\\mbestek\\appdata\\local\\anaconda3\\envs\\yoloe\\lib\\site-packages (from torch) (2025.3.0)\n",
      "Requirement already satisfied: sympy==1.13.1 in c:\\users\\mbestek\\appdata\\local\\anaconda3\\envs\\yoloe\\lib\\site-packages (from torch) (1.13.1)\n",
      "Requirement already satisfied: mpmath<1.4,>=1.1.0 in c:\\users\\mbestek\\appdata\\local\\anaconda3\\envs\\yoloe\\lib\\site-packages (from sympy==1.13.1->torch) (1.3.0)\n",
      "Requirement already satisfied: MarkupSafe>=2.0 in c:\\users\\mbestek\\appdata\\local\\anaconda3\\envs\\yoloe\\lib\\site-packages (from jinja2->torch) (3.0.2)\n",
      "Note: you may need to restart the kernel to use updated packages.\n"
     ]
    }
   ],
   "source": [
    "pip install torch --upgrade"
   ]
  },
  {
   "cell_type": "code",
   "execution_count": 10,
   "metadata": {},
   "outputs": [
    {
     "name": "stdout",
     "output_type": "stream",
     "text": [
      "Model loaded successfully!\n"
     ]
    }
   ],
   "source": [
    "import torch\n",
    "import sys\n",
    "\n",
    "\n",
    "try:\n",
    "    model = torch.load(\"./mobileclip_base1.pt\")  # Replace with your filename\n",
    "    print(\"Model loaded successfully!\")\n",
    "except Exception as e:\n",
    "    print(f\"Failed to load model: {e}\")"
   ]
  }
 ],
 "metadata": {
  "kernelspec": {
   "display_name": "yoloe",
   "language": "python",
   "name": "python3"
  },
  "language_info": {
   "codemirror_mode": {
    "name": "ipython",
    "version": 3
   },
   "file_extension": ".py",
   "mimetype": "text/x-python",
   "name": "python",
   "nbconvert_exporter": "python",
   "pygments_lexer": "ipython3",
   "version": "3.10.16"
  }
 },
 "nbformat": 4,
 "nbformat_minor": 2
}
